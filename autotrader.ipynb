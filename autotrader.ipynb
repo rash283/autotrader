{
 "cells": [
  {
   "cell_type": "code",
   "execution_count": 1,
   "metadata": {
    "collapsed": true
   },
   "outputs": [],
   "source": [
    "from bs4 import BeautifulSoup\n",
    "from selenium import webdriver\n",
    "import re\n",
    "import clipboard\n",
    "import pandas as pd"
   ]
  },
  {
   "cell_type": "code",
   "execution_count": 2,
   "metadata": {
    "collapsed": true
   },
   "outputs": [],
   "source": [
    "def pages():\n",
    "    page_buttons={}\n",
    "    button_list=driver.find_element_by_class_name('pagination')\n",
    "    buttons=button_list.find_elements_by_tag_name('a')\n",
    "    for button in buttons:\n",
    "        key=button.text\n",
    "        page_buttons[key]= button\n",
    "        \n",
    "    return page_buttons"
   ]
  },
  {
   "cell_type": "code",
   "execution_count": 24,
   "metadata": {
    "collapsed": false
   },
   "outputs": [],
   "source": [
    "def parseCarTag(child):\n",
    "    try:\n",
    "        strTitle=child.h2.text\n",
    "        strPrice=child.find(attrs={\"data-qaid\" : \"cntnr-lstng-price-outer\"}).text\n",
    "        mileage=child.find(attrs={\"data-qaid\" : \"mileage\"}).text\n",
    "        strMileage=mileage[0:(mileage.find('miles')-1)]\n",
    "        try:\n",
    "            strColor=child.find('div', class_='col-xs-7').strong.text\n",
    "            \n",
    "        except AttributeError:\n",
    "            strColor=\"\"\n",
    "            \n",
    "        match = re.search(r'listingId=(?P<id>\\d+)',child.h2.a.get('href'))    \n",
    "        strId=match.group('id')\n",
    "        strLink = 'http://www.autotrader.com//cars-for-sale/vehicledetails.xhtml?listingId=' + strId\n",
    "        return {'Title'  : strTitle,\n",
    "                'Price'  : strPrice,\n",
    "                'Milage' : strMileage,\n",
    "                'Color'  : strColor,\n",
    "                'Id'     : strId,\n",
    "                'Link'   : strLink }\n",
    "    except AttributeError:\n",
    "        print(AttributeError)"
   ]
  },
  {
   "cell_type": "code",
   "execution_count": 4,
   "metadata": {
    "collapsed": true
   },
   "outputs": [],
   "source": [
    "\n",
    "def processPage(soup,car_list):\n",
    "    cars=soup.find('div', 'loading-indicator')\n",
    "    for child in cars.children:\n",
    "        car_list.append(parseCarTag(child))\n",
    "    RecordsParsed=len(list(cars.children))\n",
    "    return (RecordsParsed,car_list)"
   ]
  },
  {
   "cell_type": "code",
   "execution_count": 5,
   "metadata": {
    "collapsed": true
   },
   "outputs": [],
   "source": [
    "driver=webdriver.PhantomJS()"
   ]
  },
  {
   "cell_type": "code",
   "execution_count": 6,
   "metadata": {
    "collapsed": true
   },
   "outputs": [],
   "source": [
    "cycles=0"
   ]
  },
  {
   "cell_type": "code",
   "execution_count": 27,
   "metadata": {
    "collapsed": false
   },
   "outputs": [],
   "source": [
    "car_list = []"
   ]
  },
  {
   "cell_type": "code",
   "execution_count": 8,
   "metadata": {
    "collapsed": true
   },
   "outputs": [],
   "source": [
    "url='http://www.autotrader.com/cars-for-sale/cars+under+15000/Toyota/Corolla/?zip=40056&startYear=2012&maxMileage=75000&numRecords=100&endYear=2016&modelCodeList=COROL&makeCodeList=TOYOTA&mpgRanges=40-MPG%2C31-40MPG&sortBy=derivedpriceASC&maxPrice=15000&firstRecord=0&searchRadius=100'"
   ]
  },
  {
   "cell_type": "code",
   "execution_count": 9,
   "metadata": {
    "collapsed": false
   },
   "outputs": [],
   "source": [
    "driver.get(url=url)"
   ]
  },
  {
   "cell_type": "code",
   "execution_count": 10,
   "metadata": {
    "collapsed": false
   },
   "outputs": [],
   "source": [
    "soup=BeautifulSoup(driver.page_source,\"lxml\")"
   ]
  },
  {
   "cell_type": "code",
   "execution_count": 11,
   "metadata": {
    "collapsed": false
   },
   "outputs": [],
   "source": [
    "results=int(soup.find(attrs={\"data-qaid\": \"cntnr-resultTotal\"}).text)"
   ]
  },
  {
   "cell_type": "code",
   "execution_count": 12,
   "metadata": {
    "collapsed": false
   },
   "outputs": [
    {
     "name": "stdout",
     "output_type": "stream",
     "text": [
      "220\n"
     ]
    }
   ],
   "source": [
    "print(results)"
   ]
  },
  {
   "cell_type": "code",
   "execution_count": 50,
   "metadata": {
    "collapsed": false
   },
   "outputs": [],
   "source": [
    "clipboard.copy(driver.page_source)"
   ]
  },
  {
   "cell_type": "code",
   "execution_count": 13,
   "metadata": {
    "collapsed": true
   },
   "outputs": [],
   "source": [
    "cars=soup.find('div', 'loading-indicator')"
   ]
  },
  {
   "cell_type": "code",
   "execution_count": 28,
   "metadata": {
    "collapsed": false
   },
   "outputs": [],
   "source": [
    "for child in cars.children:\n",
    "    car_list.append(parseCarTag(child))"
   ]
  },
  {
   "cell_type": "code",
   "execution_count": 29,
   "metadata": {
    "collapsed": false
   },
   "outputs": [
    {
     "data": {
      "text/plain": [
       "100"
      ]
     },
     "execution_count": 29,
     "metadata": {},
     "output_type": "execute_result"
    }
   ],
   "source": [
    "len(car_list)"
   ]
  },
  {
   "cell_type": "code",
   "execution_count": 30,
   "metadata": {
    "collapsed": true
   },
   "outputs": [],
   "source": [
    "recordsPerCycle=len(list(cars.children))"
   ]
  },
  {
   "cell_type": "code",
   "execution_count": 31,
   "metadata": {
    "collapsed": true
   },
   "outputs": [],
   "source": [
    "cyclesRequired=int(results/recordsPerCycle+1)"
   ]
  },
  {
   "cell_type": "code",
   "execution_count": 32,
   "metadata": {
    "collapsed": false
   },
   "outputs": [],
   "source": [
    "page_buttons=pages()"
   ]
  },
  {
   "cell_type": "code",
   "execution_count": 33,
   "metadata": {
    "collapsed": false
   },
   "outputs": [],
   "source": [
    "page_buttons.get(str(cycles+1)).click()"
   ]
  },
  {
   "cell_type": "code",
   "execution_count": 34,
   "metadata": {
    "collapsed": false
   },
   "outputs": [],
   "source": [
    "next_page=page_buttons.get(str(cycles+1))"
   ]
  },
  {
   "cell_type": "code",
   "execution_count": 35,
   "metadata": {
    "collapsed": false
   },
   "outputs": [
    {
     "data": {
      "text/plain": [
       "'1'"
      ]
     },
     "execution_count": 35,
     "metadata": {},
     "output_type": "execute_result"
    }
   ],
   "source": [
    "next_page.text"
   ]
  },
  {
   "cell_type": "code",
   "execution_count": 36,
   "metadata": {
    "collapsed": false
   },
   "outputs": [],
   "source": [
    "df=pd.DataFrame(car_list)"
   ]
  },
  {
   "cell_type": "code",
   "execution_count": 37,
   "metadata": {
    "collapsed": false
   },
   "outputs": [
    {
     "data": {
      "text/html": [
       "<div>\n",
       "<table border=\"1\" class=\"dataframe\">\n",
       "  <thead>\n",
       "    <tr style=\"text-align: right;\">\n",
       "      <th></th>\n",
       "      <th>Color</th>\n",
       "      <th>Id</th>\n",
       "      <th>Link</th>\n",
       "      <th>Milage</th>\n",
       "      <th>Price</th>\n",
       "      <th>Title</th>\n",
       "    </tr>\n",
       "  </thead>\n",
       "  <tbody>\n",
       "    <tr>\n",
       "      <th>7</th>\n",
       "      <td>Black</td>\n",
       "      <td>400660867</td>\n",
       "      <td>http://www.autotrader.com//cars-for-sale/vehic...</td>\n",
       "      <td>29,955</td>\n",
       "      <td>$10,995</td>\n",
       "      <td>Used 2012 Toyota Corolla LE</td>\n",
       "    </tr>\n",
       "    <tr>\n",
       "      <th>97</th>\n",
       "      <td>Silver</td>\n",
       "      <td>411508666</td>\n",
       "      <td>http://www.autotrader.com//cars-for-sale/vehic...</td>\n",
       "      <td>22,720</td>\n",
       "      <td>$13,995</td>\n",
       "      <td>Used 2014 Toyota Corolla LE</td>\n",
       "    </tr>\n",
       "    <tr>\n",
       "      <th>16</th>\n",
       "      <td>Silver</td>\n",
       "      <td>423579195</td>\n",
       "      <td>http://www.autotrader.com//cars-for-sale/vehic...</td>\n",
       "      <td>36,838</td>\n",
       "      <td>$11,699</td>\n",
       "      <td>Used 2014 Toyota Corolla LE Plus</td>\n",
       "    </tr>\n",
       "    <tr>\n",
       "      <th>29</th>\n",
       "      <td>White</td>\n",
       "      <td>428631131</td>\n",
       "      <td>http://www.autotrader.com//cars-for-sale/vehic...</td>\n",
       "      <td>20,407</td>\n",
       "      <td>$12,200</td>\n",
       "      <td>Used 2015 Toyota Corolla L</td>\n",
       "    </tr>\n",
       "    <tr>\n",
       "      <th>60</th>\n",
       "      <td>Red</td>\n",
       "      <td>433938329</td>\n",
       "      <td>http://www.autotrader.com//cars-for-sale/vehic...</td>\n",
       "      <td>40,744</td>\n",
       "      <td>$12,999</td>\n",
       "      <td>Used 2015 Toyota Corolla LE</td>\n",
       "    </tr>\n",
       "    <tr>\n",
       "      <th>3</th>\n",
       "      <td>White</td>\n",
       "      <td>435058835</td>\n",
       "      <td>http://www.autotrader.com//cars-for-sale/vehic...</td>\n",
       "      <td>73,212</td>\n",
       "      <td>$10,495</td>\n",
       "      <td>Used 2013 Toyota Corolla LE</td>\n",
       "    </tr>\n",
       "    <tr>\n",
       "      <th>48</th>\n",
       "      <td>Blue</td>\n",
       "      <td>435312223</td>\n",
       "      <td>http://www.autotrader.com//cars-for-sale/vehic...</td>\n",
       "      <td>34,411</td>\n",
       "      <td>$12,895</td>\n",
       "      <td>Used 2013 Toyota Corolla LE</td>\n",
       "    </tr>\n",
       "    <tr>\n",
       "      <th>38</th>\n",
       "      <td>Red</td>\n",
       "      <td>435491179</td>\n",
       "      <td>http://www.autotrader.com//cars-for-sale/vehic...</td>\n",
       "      <td>38,853</td>\n",
       "      <td>$12,488</td>\n",
       "      <td>Used 2015 Toyota Corolla L</td>\n",
       "    </tr>\n",
       "    <tr>\n",
       "      <th>0</th>\n",
       "      <td>Gray</td>\n",
       "      <td>435491179</td>\n",
       "      <td>http://www.autotrader.com//cars-for-sale/vehic...</td>\n",
       "      <td>74,552</td>\n",
       "      <td>$12,488</td>\n",
       "      <td>2015 Toyota Corolla</td>\n",
       "    </tr>\n",
       "    <tr>\n",
       "      <th>98</th>\n",
       "      <td>Charcoal</td>\n",
       "      <td>436419661</td>\n",
       "      <td>http://www.autotrader.com//cars-for-sale/vehic...</td>\n",
       "      <td>22,911</td>\n",
       "      <td>$13,996</td>\n",
       "      <td>Used 2013 Toyota Corolla S</td>\n",
       "    </tr>\n",
       "    <tr>\n",
       "      <th>50</th>\n",
       "      <td>Silver</td>\n",
       "      <td>437252320</td>\n",
       "      <td>http://www.autotrader.com//cars-for-sale/vehic...</td>\n",
       "      <td>36,784</td>\n",
       "      <td>$12,900</td>\n",
       "      <td>Certified 2015 Toyota Corolla S</td>\n",
       "    </tr>\n",
       "    <tr>\n",
       "      <th>90</th>\n",
       "      <td>Red</td>\n",
       "      <td>438457084</td>\n",
       "      <td>http://www.autotrader.com//cars-for-sale/vehic...</td>\n",
       "      <td>37,307</td>\n",
       "      <td>$13,975</td>\n",
       "      <td>Used 2015 Toyota Corolla LE</td>\n",
       "    </tr>\n",
       "    <tr>\n",
       "      <th>36</th>\n",
       "      <td>Blue</td>\n",
       "      <td>439417097</td>\n",
       "      <td>http://www.autotrader.com//cars-for-sale/vehic...</td>\n",
       "      <td>34,862</td>\n",
       "      <td>$12,400</td>\n",
       "      <td>Used 2013 Toyota Corolla LE</td>\n",
       "    </tr>\n",
       "    <tr>\n",
       "      <th>86</th>\n",
       "      <td>White</td>\n",
       "      <td>440183545</td>\n",
       "      <td>http://www.autotrader.com//cars-for-sale/vehic...</td>\n",
       "      <td>24,612</td>\n",
       "      <td>$13,949</td>\n",
       "      <td>Used 2013 Toyota Corolla LE</td>\n",
       "    </tr>\n",
       "    <tr>\n",
       "      <th>21</th>\n",
       "      <td>Orange</td>\n",
       "      <td>441287417</td>\n",
       "      <td>http://www.autotrader.com//cars-for-sale/vehic...</td>\n",
       "      <td>34,378</td>\n",
       "      <td>$11,888</td>\n",
       "      <td>Used 2013 Toyota Corolla S Special Edition</td>\n",
       "    </tr>\n",
       "    <tr>\n",
       "      <th>1</th>\n",
       "      <td>Silver</td>\n",
       "      <td>441720149</td>\n",
       "      <td>http://www.autotrader.com//cars-for-sale/vehic...</td>\n",
       "      <td>69,563</td>\n",
       "      <td>$10,000</td>\n",
       "      <td>Used 2013 Toyota Corolla S</td>\n",
       "    </tr>\n",
       "    <tr>\n",
       "      <th>51</th>\n",
       "      <td>White</td>\n",
       "      <td>442078872</td>\n",
       "      <td>http://www.autotrader.com//cars-for-sale/vehic...</td>\n",
       "      <td>16,707</td>\n",
       "      <td>$12,942</td>\n",
       "      <td>Used 2014 Toyota Corolla S</td>\n",
       "    </tr>\n",
       "    <tr>\n",
       "      <th>2</th>\n",
       "      <td>Gray</td>\n",
       "      <td>442080679</td>\n",
       "      <td>http://www.autotrader.com//cars-for-sale/vehic...</td>\n",
       "      <td>64,209</td>\n",
       "      <td>$10,200</td>\n",
       "      <td>Used 2014 Toyota Corolla LE</td>\n",
       "    </tr>\n",
       "    <tr>\n",
       "      <th>91</th>\n",
       "      <td>Black</td>\n",
       "      <td>442426380</td>\n",
       "      <td>http://www.autotrader.com//cars-for-sale/vehic...</td>\n",
       "      <td>40,957</td>\n",
       "      <td>$13,989</td>\n",
       "      <td>Used 2015 Toyota Corolla S</td>\n",
       "    </tr>\n",
       "    <tr>\n",
       "      <th>53</th>\n",
       "      <td>Red</td>\n",
       "      <td>442862950</td>\n",
       "      <td>http://www.autotrader.com//cars-for-sale/vehic...</td>\n",
       "      <td>45,022</td>\n",
       "      <td>$12,955</td>\n",
       "      <td>Used 2015 Toyota Corolla LE</td>\n",
       "    </tr>\n",
       "    <tr>\n",
       "      <th>4</th>\n",
       "      <td>White</td>\n",
       "      <td>443259343</td>\n",
       "      <td>http://www.autotrader.com//cars-for-sale/vehic...</td>\n",
       "      <td>43,358</td>\n",
       "      <td>$10,799</td>\n",
       "      <td>Used 2014 Toyota Corolla L</td>\n",
       "    </tr>\n",
       "    <tr>\n",
       "      <th>66</th>\n",
       "      <td>Silver</td>\n",
       "      <td>443385133</td>\n",
       "      <td>http://www.autotrader.com//cars-for-sale/vehic...</td>\n",
       "      <td>43,970</td>\n",
       "      <td>$13,269</td>\n",
       "      <td>Used 2015 Toyota Corolla S</td>\n",
       "    </tr>\n",
       "    <tr>\n",
       "      <th>28</th>\n",
       "      <td>White</td>\n",
       "      <td>443500559</td>\n",
       "      <td>http://www.autotrader.com//cars-for-sale/vehic...</td>\n",
       "      <td>48,090</td>\n",
       "      <td>$12,198</td>\n",
       "      <td>Used 2015 Toyota Corolla LE</td>\n",
       "    </tr>\n",
       "    <tr>\n",
       "      <th>5</th>\n",
       "      <td>Red</td>\n",
       "      <td>443646424</td>\n",
       "      <td>http://www.autotrader.com//cars-for-sale/vehic...</td>\n",
       "      <td>39,593</td>\n",
       "      <td>$10,989</td>\n",
       "      <td>Used 2015 Toyota Corolla LE</td>\n",
       "    </tr>\n",
       "    <tr>\n",
       "      <th>69</th>\n",
       "      <td>Green</td>\n",
       "      <td>443947421</td>\n",
       "      <td>http://www.autotrader.com//cars-for-sale/vehic...</td>\n",
       "      <td>34,840</td>\n",
       "      <td>$13,333</td>\n",
       "      <td>Used 2014 Toyota Corolla LE</td>\n",
       "    </tr>\n",
       "    <tr>\n",
       "      <th>68</th>\n",
       "      <td>Tan</td>\n",
       "      <td>443947424</td>\n",
       "      <td>http://www.autotrader.com//cars-for-sale/vehic...</td>\n",
       "      <td>35,859</td>\n",
       "      <td>$13,333</td>\n",
       "      <td>Used 2014 Toyota Corolla LE</td>\n",
       "    </tr>\n",
       "    <tr>\n",
       "      <th>37</th>\n",
       "      <td>Silver</td>\n",
       "      <td>443963110</td>\n",
       "      <td>http://www.autotrader.com//cars-for-sale/vehic...</td>\n",
       "      <td>28,065</td>\n",
       "      <td>$12,487</td>\n",
       "      <td>Used 2013 Toyota Corolla S</td>\n",
       "    </tr>\n",
       "    <tr>\n",
       "      <th>55</th>\n",
       "      <td>Red</td>\n",
       "      <td>444030534</td>\n",
       "      <td>http://www.autotrader.com//cars-for-sale/vehic...</td>\n",
       "      <td>57,618</td>\n",
       "      <td>$12,980</td>\n",
       "      <td>Used 2013 Toyota Corolla S</td>\n",
       "    </tr>\n",
       "    <tr>\n",
       "      <th>23</th>\n",
       "      <td>Gray</td>\n",
       "      <td>444088063</td>\n",
       "      <td>http://www.autotrader.com//cars-for-sale/vehic...</td>\n",
       "      <td>18,326</td>\n",
       "      <td>$11,995</td>\n",
       "      <td>Used 2015 Toyota Corolla L</td>\n",
       "    </tr>\n",
       "    <tr>\n",
       "      <th>10</th>\n",
       "      <td>Red</td>\n",
       "      <td>444115489</td>\n",
       "      <td>http://www.autotrader.com//cars-for-sale/vehic...</td>\n",
       "      <td>38,844</td>\n",
       "      <td>$11,269</td>\n",
       "      <td>Used 2015 Toyota Corolla LE</td>\n",
       "    </tr>\n",
       "    <tr>\n",
       "      <th>...</th>\n",
       "      <td>...</td>\n",
       "      <td>...</td>\n",
       "      <td>...</td>\n",
       "      <td>...</td>\n",
       "      <td>...</td>\n",
       "      <td>...</td>\n",
       "    </tr>\n",
       "    <tr>\n",
       "      <th>56</th>\n",
       "      <td>Red</td>\n",
       "      <td>447256300</td>\n",
       "      <td>http://www.autotrader.com//cars-for-sale/vehic...</td>\n",
       "      <td>35,756</td>\n",
       "      <td>$12,981</td>\n",
       "      <td>Used 2015 Toyota Corolla L</td>\n",
       "    </tr>\n",
       "    <tr>\n",
       "      <th>93</th>\n",
       "      <td>Blue</td>\n",
       "      <td>447260455</td>\n",
       "      <td>http://www.autotrader.com//cars-for-sale/vehic...</td>\n",
       "      <td>61,444</td>\n",
       "      <td>$13,990</td>\n",
       "      <td>Used 2014 Toyota Corolla S Plus</td>\n",
       "    </tr>\n",
       "    <tr>\n",
       "      <th>70</th>\n",
       "      <td>Red</td>\n",
       "      <td>447338854</td>\n",
       "      <td>http://www.autotrader.com//cars-for-sale/vehic...</td>\n",
       "      <td>43,072</td>\n",
       "      <td>$13,398</td>\n",
       "      <td>Certified 2014 Toyota Corolla LE Plus</td>\n",
       "    </tr>\n",
       "    <tr>\n",
       "      <th>71</th>\n",
       "      <td>Red</td>\n",
       "      <td>447368842</td>\n",
       "      <td>http://www.autotrader.com//cars-for-sale/vehic...</td>\n",
       "      <td>34,979</td>\n",
       "      <td>$13,400</td>\n",
       "      <td>Certified 2014 Toyota Corolla LE</td>\n",
       "    </tr>\n",
       "    <tr>\n",
       "      <th>26</th>\n",
       "      <td>Gray</td>\n",
       "      <td>447368846</td>\n",
       "      <td>http://www.autotrader.com//cars-for-sale/vehic...</td>\n",
       "      <td>46,618</td>\n",
       "      <td>$12,000</td>\n",
       "      <td>Used 2013 Toyota Corolla LE</td>\n",
       "    </tr>\n",
       "    <tr>\n",
       "      <th>67</th>\n",
       "      <td>Silver</td>\n",
       "      <td>447461720</td>\n",
       "      <td>http://www.autotrader.com//cars-for-sale/vehic...</td>\n",
       "      <td>24,942</td>\n",
       "      <td>$13,286</td>\n",
       "      <td>Used 2014 Toyota Corolla L</td>\n",
       "    </tr>\n",
       "    <tr>\n",
       "      <th>75</th>\n",
       "      <td>White</td>\n",
       "      <td>447478713</td>\n",
       "      <td>http://www.autotrader.com//cars-for-sale/vehic...</td>\n",
       "      <td>17,639</td>\n",
       "      <td>$13,486</td>\n",
       "      <td>Used 2014 Toyota Corolla L</td>\n",
       "    </tr>\n",
       "    <tr>\n",
       "      <th>58</th>\n",
       "      <td>Black</td>\n",
       "      <td>447492399</td>\n",
       "      <td>http://www.autotrader.com//cars-for-sale/vehic...</td>\n",
       "      <td>49,091</td>\n",
       "      <td>$12,990</td>\n",
       "      <td>Used 2014 Toyota Corolla LE Plus</td>\n",
       "    </tr>\n",
       "    <tr>\n",
       "      <th>81</th>\n",
       "      <td>Brown</td>\n",
       "      <td>447495703</td>\n",
       "      <td>http://www.autotrader.com//cars-for-sale/vehic...</td>\n",
       "      <td>31,395</td>\n",
       "      <td>$13,800</td>\n",
       "      <td>Certified 2014 Toyota Corolla LE</td>\n",
       "    </tr>\n",
       "    <tr>\n",
       "      <th>79</th>\n",
       "      <td>Black</td>\n",
       "      <td>447495707</td>\n",
       "      <td>http://www.autotrader.com//cars-for-sale/vehic...</td>\n",
       "      <td>34,248</td>\n",
       "      <td>$13,700</td>\n",
       "      <td>Certified 2014 Toyota Corolla LE</td>\n",
       "    </tr>\n",
       "    <tr>\n",
       "      <th>57</th>\n",
       "      <td>Gray</td>\n",
       "      <td>447517609</td>\n",
       "      <td>http://www.autotrader.com//cars-for-sale/vehic...</td>\n",
       "      <td>30,809</td>\n",
       "      <td>$12,990</td>\n",
       "      <td>Used 2015 Toyota Corolla LE</td>\n",
       "    </tr>\n",
       "    <tr>\n",
       "      <th>42</th>\n",
       "      <td>Black</td>\n",
       "      <td>447530393</td>\n",
       "      <td>http://www.autotrader.com//cars-for-sale/vehic...</td>\n",
       "      <td>39,903</td>\n",
       "      <td>$12,586</td>\n",
       "      <td>Used 2015 Toyota Corolla L</td>\n",
       "    </tr>\n",
       "    <tr>\n",
       "      <th>74</th>\n",
       "      <td>Black</td>\n",
       "      <td>447530406</td>\n",
       "      <td>http://www.autotrader.com//cars-for-sale/vehic...</td>\n",
       "      <td>26,009</td>\n",
       "      <td>$13,486</td>\n",
       "      <td>Used 2016 Toyota Corolla L</td>\n",
       "    </tr>\n",
       "    <tr>\n",
       "      <th>14</th>\n",
       "      <td>Tan</td>\n",
       "      <td>447590658</td>\n",
       "      <td>http://www.autotrader.com//cars-for-sale/vehic...</td>\n",
       "      <td>32,587</td>\n",
       "      <td>$11,543</td>\n",
       "      <td>Certified 2012 Toyota Corolla LE</td>\n",
       "    </tr>\n",
       "    <tr>\n",
       "      <th>63</th>\n",
       "      <td>White</td>\n",
       "      <td>447636356</td>\n",
       "      <td>http://www.autotrader.com//cars-for-sale/vehic...</td>\n",
       "      <td>45,303</td>\n",
       "      <td>$13,000</td>\n",
       "      <td>Used 2015 Toyota Corolla LE</td>\n",
       "    </tr>\n",
       "    <tr>\n",
       "      <th>64</th>\n",
       "      <td>Silver</td>\n",
       "      <td>447636357</td>\n",
       "      <td>http://www.autotrader.com//cars-for-sale/vehic...</td>\n",
       "      <td>48,979</td>\n",
       "      <td>$13,000</td>\n",
       "      <td>Used 2015 Toyota Corolla LE</td>\n",
       "    </tr>\n",
       "    <tr>\n",
       "      <th>52</th>\n",
       "      <td>Silver</td>\n",
       "      <td>447658646</td>\n",
       "      <td>http://www.autotrader.com//cars-for-sale/vehic...</td>\n",
       "      <td>23,750</td>\n",
       "      <td>$12,950</td>\n",
       "      <td>Used 2014 Toyota Corolla LE</td>\n",
       "    </tr>\n",
       "    <tr>\n",
       "      <th>99</th>\n",
       "      <td></td>\n",
       "      <td>447749907</td>\n",
       "      <td>http://www.autotrader.com//cars-for-sale/vehic...</td>\n",
       "      <td>41,213</td>\n",
       "      <td>$13,997</td>\n",
       "      <td>Used 2016 Toyota Corolla S</td>\n",
       "    </tr>\n",
       "    <tr>\n",
       "      <th>24</th>\n",
       "      <td>Tan</td>\n",
       "      <td>447803363</td>\n",
       "      <td>http://www.autotrader.com//cars-for-sale/vehic...</td>\n",
       "      <td>25,736</td>\n",
       "      <td>$11,999</td>\n",
       "      <td>Used 2012 Toyota Corolla LE</td>\n",
       "    </tr>\n",
       "    <tr>\n",
       "      <th>76</th>\n",
       "      <td>Gray</td>\n",
       "      <td>447831618</td>\n",
       "      <td>http://www.autotrader.com//cars-for-sale/vehic...</td>\n",
       "      <td>54,686</td>\n",
       "      <td>$13,490</td>\n",
       "      <td>Used 2014 Toyota Corolla LE</td>\n",
       "    </tr>\n",
       "    <tr>\n",
       "      <th>62</th>\n",
       "      <td>Silver</td>\n",
       "      <td>447837086</td>\n",
       "      <td>http://www.autotrader.com//cars-for-sale/vehic...</td>\n",
       "      <td>23,073</td>\n",
       "      <td>$13,000</td>\n",
       "      <td>Used 2014 Toyota Corolla L</td>\n",
       "    </tr>\n",
       "    <tr>\n",
       "      <th>73</th>\n",
       "      <td>White</td>\n",
       "      <td>447880864</td>\n",
       "      <td>http://www.autotrader.com//cars-for-sale/vehic...</td>\n",
       "      <td>34,930</td>\n",
       "      <td>$13,479</td>\n",
       "      <td>Used 2015 Toyota Corolla LE</td>\n",
       "    </tr>\n",
       "    <tr>\n",
       "      <th>94</th>\n",
       "      <td>White</td>\n",
       "      <td>447884114</td>\n",
       "      <td>http://www.autotrader.com//cars-for-sale/vehic...</td>\n",
       "      <td>57,542</td>\n",
       "      <td>$13,990</td>\n",
       "      <td>Used 2014 Toyota Corolla S Plus</td>\n",
       "    </tr>\n",
       "    <tr>\n",
       "      <th>30</th>\n",
       "      <td>Green</td>\n",
       "      <td>447900641</td>\n",
       "      <td>http://www.autotrader.com//cars-for-sale/vehic...</td>\n",
       "      <td>20,004</td>\n",
       "      <td>$12,268</td>\n",
       "      <td>Used 2014 Toyota Corolla LE</td>\n",
       "    </tr>\n",
       "    <tr>\n",
       "      <th>32</th>\n",
       "      <td>Silver</td>\n",
       "      <td>447954821</td>\n",
       "      <td>http://www.autotrader.com//cars-for-sale/vehic...</td>\n",
       "      <td>37,230</td>\n",
       "      <td>$12,288</td>\n",
       "      <td>Used 2015 Toyota Corolla S</td>\n",
       "    </tr>\n",
       "    <tr>\n",
       "      <th>20</th>\n",
       "      <td>White</td>\n",
       "      <td>448042814</td>\n",
       "      <td>http://www.autotrader.com//cars-for-sale/vehic...</td>\n",
       "      <td>41,311</td>\n",
       "      <td>$11,888</td>\n",
       "      <td>Used 2015 Toyota Corolla LE</td>\n",
       "    </tr>\n",
       "    <tr>\n",
       "      <th>46</th>\n",
       "      <td>Green</td>\n",
       "      <td>448052587</td>\n",
       "      <td>http://www.autotrader.com//cars-for-sale/vehic...</td>\n",
       "      <td>19,297</td>\n",
       "      <td>$12,887</td>\n",
       "      <td>Used 2015 Toyota Corolla LE</td>\n",
       "    </tr>\n",
       "    <tr>\n",
       "      <th>95</th>\n",
       "      <td>Silver</td>\n",
       "      <td>448058704</td>\n",
       "      <td>http://www.autotrader.com//cars-for-sale/vehic...</td>\n",
       "      <td>32,644</td>\n",
       "      <td>$13,990</td>\n",
       "      <td>Used 2015 Toyota Corolla LE</td>\n",
       "    </tr>\n",
       "    <tr>\n",
       "      <th>31</th>\n",
       "      <td>Red</td>\n",
       "      <td>448194125</td>\n",
       "      <td>http://www.autotrader.com//cars-for-sale/vehic...</td>\n",
       "      <td>40,250</td>\n",
       "      <td>$12,269</td>\n",
       "      <td>Used 2015 Toyota Corolla LE</td>\n",
       "    </tr>\n",
       "    <tr>\n",
       "      <th>27</th>\n",
       "      <td>Silver</td>\n",
       "      <td>448205202</td>\n",
       "      <td>http://www.autotrader.com//cars-for-sale/vehic...</td>\n",
       "      <td>44,588</td>\n",
       "      <td>$12,000</td>\n",
       "      <td>Used 2015 Toyota Corolla LE</td>\n",
       "    </tr>\n",
       "  </tbody>\n",
       "</table>\n",
       "<p>100 rows × 6 columns</p>\n",
       "</div>"
      ],
      "text/plain": [
       "       Color         Id                                               Link  \\\n",
       "7      Black  400660867  http://www.autotrader.com//cars-for-sale/vehic...   \n",
       "97    Silver  411508666  http://www.autotrader.com//cars-for-sale/vehic...   \n",
       "16    Silver  423579195  http://www.autotrader.com//cars-for-sale/vehic...   \n",
       "29     White  428631131  http://www.autotrader.com//cars-for-sale/vehic...   \n",
       "60       Red  433938329  http://www.autotrader.com//cars-for-sale/vehic...   \n",
       "3      White  435058835  http://www.autotrader.com//cars-for-sale/vehic...   \n",
       "48      Blue  435312223  http://www.autotrader.com//cars-for-sale/vehic...   \n",
       "38       Red  435491179  http://www.autotrader.com//cars-for-sale/vehic...   \n",
       "0       Gray  435491179  http://www.autotrader.com//cars-for-sale/vehic...   \n",
       "98  Charcoal  436419661  http://www.autotrader.com//cars-for-sale/vehic...   \n",
       "50    Silver  437252320  http://www.autotrader.com//cars-for-sale/vehic...   \n",
       "90       Red  438457084  http://www.autotrader.com//cars-for-sale/vehic...   \n",
       "36      Blue  439417097  http://www.autotrader.com//cars-for-sale/vehic...   \n",
       "86     White  440183545  http://www.autotrader.com//cars-for-sale/vehic...   \n",
       "21    Orange  441287417  http://www.autotrader.com//cars-for-sale/vehic...   \n",
       "1     Silver  441720149  http://www.autotrader.com//cars-for-sale/vehic...   \n",
       "51     White  442078872  http://www.autotrader.com//cars-for-sale/vehic...   \n",
       "2       Gray  442080679  http://www.autotrader.com//cars-for-sale/vehic...   \n",
       "91     Black  442426380  http://www.autotrader.com//cars-for-sale/vehic...   \n",
       "53       Red  442862950  http://www.autotrader.com//cars-for-sale/vehic...   \n",
       "4      White  443259343  http://www.autotrader.com//cars-for-sale/vehic...   \n",
       "66    Silver  443385133  http://www.autotrader.com//cars-for-sale/vehic...   \n",
       "28     White  443500559  http://www.autotrader.com//cars-for-sale/vehic...   \n",
       "5        Red  443646424  http://www.autotrader.com//cars-for-sale/vehic...   \n",
       "69     Green  443947421  http://www.autotrader.com//cars-for-sale/vehic...   \n",
       "68       Tan  443947424  http://www.autotrader.com//cars-for-sale/vehic...   \n",
       "37    Silver  443963110  http://www.autotrader.com//cars-for-sale/vehic...   \n",
       "55       Red  444030534  http://www.autotrader.com//cars-for-sale/vehic...   \n",
       "23      Gray  444088063  http://www.autotrader.com//cars-for-sale/vehic...   \n",
       "10       Red  444115489  http://www.autotrader.com//cars-for-sale/vehic...   \n",
       "..       ...        ...                                                ...   \n",
       "56       Red  447256300  http://www.autotrader.com//cars-for-sale/vehic...   \n",
       "93      Blue  447260455  http://www.autotrader.com//cars-for-sale/vehic...   \n",
       "70       Red  447338854  http://www.autotrader.com//cars-for-sale/vehic...   \n",
       "71       Red  447368842  http://www.autotrader.com//cars-for-sale/vehic...   \n",
       "26      Gray  447368846  http://www.autotrader.com//cars-for-sale/vehic...   \n",
       "67    Silver  447461720  http://www.autotrader.com//cars-for-sale/vehic...   \n",
       "75     White  447478713  http://www.autotrader.com//cars-for-sale/vehic...   \n",
       "58     Black  447492399  http://www.autotrader.com//cars-for-sale/vehic...   \n",
       "81     Brown  447495703  http://www.autotrader.com//cars-for-sale/vehic...   \n",
       "79     Black  447495707  http://www.autotrader.com//cars-for-sale/vehic...   \n",
       "57      Gray  447517609  http://www.autotrader.com//cars-for-sale/vehic...   \n",
       "42     Black  447530393  http://www.autotrader.com//cars-for-sale/vehic...   \n",
       "74     Black  447530406  http://www.autotrader.com//cars-for-sale/vehic...   \n",
       "14       Tan  447590658  http://www.autotrader.com//cars-for-sale/vehic...   \n",
       "63     White  447636356  http://www.autotrader.com//cars-for-sale/vehic...   \n",
       "64    Silver  447636357  http://www.autotrader.com//cars-for-sale/vehic...   \n",
       "52    Silver  447658646  http://www.autotrader.com//cars-for-sale/vehic...   \n",
       "99            447749907  http://www.autotrader.com//cars-for-sale/vehic...   \n",
       "24       Tan  447803363  http://www.autotrader.com//cars-for-sale/vehic...   \n",
       "76      Gray  447831618  http://www.autotrader.com//cars-for-sale/vehic...   \n",
       "62    Silver  447837086  http://www.autotrader.com//cars-for-sale/vehic...   \n",
       "73     White  447880864  http://www.autotrader.com//cars-for-sale/vehic...   \n",
       "94     White  447884114  http://www.autotrader.com//cars-for-sale/vehic...   \n",
       "30     Green  447900641  http://www.autotrader.com//cars-for-sale/vehic...   \n",
       "32    Silver  447954821  http://www.autotrader.com//cars-for-sale/vehic...   \n",
       "20     White  448042814  http://www.autotrader.com//cars-for-sale/vehic...   \n",
       "46     Green  448052587  http://www.autotrader.com//cars-for-sale/vehic...   \n",
       "95    Silver  448058704  http://www.autotrader.com//cars-for-sale/vehic...   \n",
       "31       Red  448194125  http://www.autotrader.com//cars-for-sale/vehic...   \n",
       "27    Silver  448205202  http://www.autotrader.com//cars-for-sale/vehic...   \n",
       "\n",
       "    Milage    Price                                       Title  \n",
       "7   29,955  $10,995                 Used 2012 Toyota Corolla LE  \n",
       "97  22,720  $13,995                 Used 2014 Toyota Corolla LE  \n",
       "16  36,838  $11,699            Used 2014 Toyota Corolla LE Plus  \n",
       "29  20,407  $12,200                  Used 2015 Toyota Corolla L  \n",
       "60  40,744  $12,999                 Used 2015 Toyota Corolla LE  \n",
       "3   73,212  $10,495                 Used 2013 Toyota Corolla LE  \n",
       "48  34,411  $12,895                 Used 2013 Toyota Corolla LE  \n",
       "38  38,853  $12,488                  Used 2015 Toyota Corolla L  \n",
       "0   74,552  $12,488                        2015 Toyota Corolla   \n",
       "98  22,911  $13,996                  Used 2013 Toyota Corolla S  \n",
       "50  36,784  $12,900             Certified 2015 Toyota Corolla S  \n",
       "90  37,307  $13,975                 Used 2015 Toyota Corolla LE  \n",
       "36  34,862  $12,400                 Used 2013 Toyota Corolla LE  \n",
       "86  24,612  $13,949                 Used 2013 Toyota Corolla LE  \n",
       "21  34,378  $11,888  Used 2013 Toyota Corolla S Special Edition  \n",
       "1   69,563  $10,000                  Used 2013 Toyota Corolla S  \n",
       "51  16,707  $12,942                  Used 2014 Toyota Corolla S  \n",
       "2   64,209  $10,200                 Used 2014 Toyota Corolla LE  \n",
       "91  40,957  $13,989                  Used 2015 Toyota Corolla S  \n",
       "53  45,022  $12,955                 Used 2015 Toyota Corolla LE  \n",
       "4   43,358  $10,799                  Used 2014 Toyota Corolla L  \n",
       "66  43,970  $13,269                  Used 2015 Toyota Corolla S  \n",
       "28  48,090  $12,198                 Used 2015 Toyota Corolla LE  \n",
       "5   39,593  $10,989                 Used 2015 Toyota Corolla LE  \n",
       "69  34,840  $13,333                 Used 2014 Toyota Corolla LE  \n",
       "68  35,859  $13,333                 Used 2014 Toyota Corolla LE  \n",
       "37  28,065  $12,487                  Used 2013 Toyota Corolla S  \n",
       "55  57,618  $12,980                  Used 2013 Toyota Corolla S  \n",
       "23  18,326  $11,995                  Used 2015 Toyota Corolla L  \n",
       "10  38,844  $11,269                 Used 2015 Toyota Corolla LE  \n",
       "..     ...      ...                                         ...  \n",
       "56  35,756  $12,981                  Used 2015 Toyota Corolla L  \n",
       "93  61,444  $13,990             Used 2014 Toyota Corolla S Plus  \n",
       "70  43,072  $13,398       Certified 2014 Toyota Corolla LE Plus  \n",
       "71  34,979  $13,400            Certified 2014 Toyota Corolla LE  \n",
       "26  46,618  $12,000                 Used 2013 Toyota Corolla LE  \n",
       "67  24,942  $13,286                  Used 2014 Toyota Corolla L  \n",
       "75  17,639  $13,486                  Used 2014 Toyota Corolla L  \n",
       "58  49,091  $12,990            Used 2014 Toyota Corolla LE Plus  \n",
       "81  31,395  $13,800            Certified 2014 Toyota Corolla LE  \n",
       "79  34,248  $13,700            Certified 2014 Toyota Corolla LE  \n",
       "57  30,809  $12,990                 Used 2015 Toyota Corolla LE  \n",
       "42  39,903  $12,586                  Used 2015 Toyota Corolla L  \n",
       "74  26,009  $13,486                  Used 2016 Toyota Corolla L  \n",
       "14  32,587  $11,543            Certified 2012 Toyota Corolla LE  \n",
       "63  45,303  $13,000                 Used 2015 Toyota Corolla LE  \n",
       "64  48,979  $13,000                 Used 2015 Toyota Corolla LE  \n",
       "52  23,750  $12,950                 Used 2014 Toyota Corolla LE  \n",
       "99  41,213  $13,997                  Used 2016 Toyota Corolla S  \n",
       "24  25,736  $11,999                 Used 2012 Toyota Corolla LE  \n",
       "76  54,686  $13,490                 Used 2014 Toyota Corolla LE  \n",
       "62  23,073  $13,000                  Used 2014 Toyota Corolla L  \n",
       "73  34,930  $13,479                 Used 2015 Toyota Corolla LE  \n",
       "94  57,542  $13,990             Used 2014 Toyota Corolla S Plus  \n",
       "30  20,004  $12,268                 Used 2014 Toyota Corolla LE  \n",
       "32  37,230  $12,288                  Used 2015 Toyota Corolla S  \n",
       "20  41,311  $11,888                 Used 2015 Toyota Corolla LE  \n",
       "46  19,297  $12,887                 Used 2015 Toyota Corolla LE  \n",
       "95  32,644  $13,990                 Used 2015 Toyota Corolla LE  \n",
       "31  40,250  $12,269                 Used 2015 Toyota Corolla LE  \n",
       "27  44,588  $12,000                 Used 2015 Toyota Corolla LE  \n",
       "\n",
       "[100 rows x 6 columns]"
      ]
     },
     "execution_count": 37,
     "metadata": {},
     "output_type": "execute_result"
    }
   ],
   "source": [
    "df.sort_values(by='Id')"
   ]
  },
  {
   "cell_type": "code",
   "execution_count": null,
   "metadata": {
    "collapsed": false
   },
   "outputs": [],
   "source": []
  },
  {
   "cell_type": "code",
   "execution_count": 72,
   "metadata": {
    "collapsed": false
   },
   "outputs": [],
   "source": [
    "at=list(cars.children)"
   ]
  },
  {
   "cell_type": "code",
   "execution_count": 47,
   "metadata": {
    "collapsed": false
   },
   "outputs": [
    {
     "data": {
      "text/plain": [
       "'$9,250'"
      ]
     },
     "execution_count": 47,
     "metadata": {},
     "output_type": "execute_result"
    }
   ],
   "source": [
    "at[0].find(attrs={\"data-qaid\" : \"cntnr-lstng-price-outer\"}).text"
   ]
  },
  {
   "cell_type": "code",
   "execution_count": 53,
   "metadata": {
    "collapsed": false
   },
   "outputs": [],
   "source": [
    "match=re.search(r'listingId=(?P<id>\\d+)',at[0].h2.a.get('href'))"
   ]
  },
  {
   "cell_type": "code",
   "execution_count": 84,
   "metadata": {
    "collapsed": false
   },
   "outputs": [
    {
     "data": {
      "text/plain": [
       "'71,798'"
      ]
     },
     "execution_count": 84,
     "metadata": {},
     "output_type": "execute_result"
    }
   ],
   "source": [
    "miles"
   ]
  },
  {
   "cell_type": "code",
   "execution_count": 79,
   "metadata": {
    "collapsed": false
   },
   "outputs": [],
   "source": [
    "mileage=at[6].find(attrs={\"data-qaid\" : \"mileage\"}).text"
   ]
  },
  {
   "cell_type": "markdown",
   "metadata": {},
   "source": [
    "miles=mileage[0:6]"
   ]
  },
  {
   "cell_type": "code",
   "execution_count": 88,
   "metadata": {
    "collapsed": false
   },
   "outputs": [],
   "source": [
    "text=soup.find('div', class_=\"tab-content\")"
   ]
  },
  {
   "cell_type": "code",
   "execution_count": 89,
   "metadata": {
    "collapsed": false
   },
   "outputs": [
    {
     "name": "stdout",
     "output_type": "stream",
     "text": [
      "Used 2013 Honda Civic\n",
      "EX-L\n",
      "Mileage:\n",
      "38,371\n",
      "Stock No.\n",
      "DE056440\n",
      "VIN\n",
      "19XFB2F95DE056440\n",
      "AT Car ID\n",
      "AT-1A1B9F90\n",
      "Sedan\n",
      "Exterior:\n",
      "White Orchid Pearl\n",
      "Interior:\n",
      "Black\n",
      "28\n",
      "CITY MPG\n",
      "39\n",
      "HWY MPG\n",
      "Gasoline\n",
      "4 Cylinder\n",
      "Transmission\n",
      "5 Speed Automatic\n",
      "Drive Type\n",
      "2 wheel drive - front\n",
      "AutoBiography\n",
      "®\n",
      "Seller Comments\n",
      "Auto fans love the a power outlet, a backup camera, stability control, traction control, and braking assist of this 2013 Honda Civic EX-L. It comes with a 1.8 liter 4 Cylinder engine. This one's a deal at $14,888. With an A rating from Edmunds, this one's a steal. With a crash test rating of 5 out of 5 stars, everyone can feel secure. It has a white orchid pearl exterior and a lovely black interior. Good cars go fast. Give us a call and schedule an appointment today! Contact Information: Whitewater Motors, 30 Harrison Brookville Road, w. Harrison, IN, 47060, Phone: (812) 637-3211, E-mail: wwmotors@fuse.net .\n",
      "Print This Advertisement and Bring It With You To the Dealership For Our Price Guarantee!\n",
      "Features\n",
      "ABS Brakes (4-Wheel)\n",
      "Air Conditioning - Air Filtration\n",
      "Air Conditioning - Front\n",
      "Air Conditioning - Front - Single Zone\n",
      "Airbags - Front - Dual\n",
      "Airbags - Front - Side\n",
      "Airbags - Front - Side Curtain\n",
      "Airbags - Rear - Side Curtain\n",
      "Airbags - Side-curtain Rollover Sensor\n",
      "Assist Handle Front\n",
      "Audio Auxiliary Input: IPod/IPhone Integration\n",
      "Body Side Reinforcements Side Impact Door Beams\n",
      "Braking Assist\n",
      "Center Console Front Console With Storage\n",
      "Center Console Trim Leather\n",
      "Child Safety Locks\n",
      "Child Seat Anchors LATCH System\n",
      "Cruise Control\n",
      "Crumple Zones Front\n",
      "Daytime Running Lights\n",
      "Digital Odometer\n",
      "Driver Seat Active Head Restraint\n",
      "Driver Seat Heated\n",
      "Driver Seat Manual Adjustments\n",
      "Electronic Brakeforce Distribution\n",
      "Electronic Messaging Assistance With Read Function\n",
      "Emergency Interior Trunk Release\n",
      "Exterior Mirrors Heated\n",
      "Exterior Mirrors Power\n",
      "External Temperature Display\n",
      "Front 12V Power Outlet (2)\n",
      "Front Headrests Adjustable\n",
      "Front Seatbelts: 3-Point\n",
      "Front Suspension Classification: Independent\n",
      "Front Suspension Type: Macpherson Struts\n",
      "Fuel Economy Display MPG\n",
      "Fuel Economy Display Range\n",
      "Headlights Auto Delay Off\n",
      "Headlights Dusk Sensing\n",
      "Headlights Halogen\n",
      "Impact Absorbing Bumpers\n",
      "Mirror Color Body-Color\n",
      "Moonroof One-Touch Open/Close\n",
      "Moonroof Power Glass\n",
      "Moonroof Tilt\n",
      "Multi-Function Display\n",
      "Multi-function Remote Keyless Entry\n",
      "Multi-function Remote Trunk Release\n",
      "One-Touch Windows: 1\n",
      "Passenger Seat Heated\n",
      "Passenger Seat Manual Adjustments\n",
      "Phone Wireless Data Link Bluetooth\n",
      "Power Door Locks\n",
      "Power Steering\n",
      "Power Windows\n",
      "Reading Lights Front\n",
      "Rear Bumper Color Body-Color\n",
      "Rear Seats 60-40 Split Bench\n",
      "Rear Seats Center Armrest: Folding With Storage\n",
      "Rear Seats Rear Heat: Rear Ventilation Ducts With Fan Control\n",
      "Rear Seats Split Folding\n",
      "Rear View Camera\n",
      "Seatbelts Emergency Locking Retractors: Front\n",
      "Seatbelts Emergency Locking Retractors: Front And Rear\n",
      "Seatbelts Seatbelt Force Limiters: Front\n",
      "Seatbelts Seatbelt Pretensioners: Front\n",
      "Seatbelts Seatbelt Warning Sensor: Driver And Passenger\n",
      "Seatbelts Second Row 3-Point\n",
      "Seats Front Seat Type: Bucket\n",
      "Seats Leather Upholstery\n",
      "Security Engine Immobilizer\n",
      "Security Remote Anti-Theft Alarm System\n",
      "Stability Control\n",
      "Steering Wheel Mounted Controls Cruise Controls\n",
      "Suspension Front Arm Type: Lower Control Arms\n",
      "Suspension Front Shock Type: Gas Shock Absorbers\n",
      "Suspension Front Spring Type: Coil Springs\n",
      "Suspension Rear Coil Springs\n",
      "Suspension Rear Gas Shock Absorbers\n",
      "Suspension Stabilizer Bar(s): Front\n",
      "Suspension Stabilizer Bar(s): Rear\n",
      "Tachometer\n",
      "Traction Control\n",
      "Trip Computer\n",
      "Vanity Mirrors Dual\n",
      "Warnings And Reminders Low Fuel Level\n",
      "Warnings And Reminders Low Oil Level\n",
      "Warnings And Reminders Maintenance Reminder\n",
      "Windows Front Wipers: Variable Intermittent\n",
      "Windows Lockout Button\n",
      "Windows Rear Defogger\n",
      "Disclaimer\n",
      "Sales Tax, Title, License Fee, Registration Fee, Dealer Documentary Fee, Finance Charges, Emission Testing Fees and Compliance Fees are additional to the advertised price.  All Vehicle Sold with Remainder of Factroy warranty OR As Is If No Manufacturers Warranty Remains. Please Verify With sales department what If Any Warranaty Applies. Warranties Available On Most vehicles At Additional Cost Unless Otherwise Noted.\n"
     ]
    }
   ],
   "source": [
    "for string in text.stripped_strings:\n",
    "    print(string)"
   ]
  },
  {
   "cell_type": "code",
   "execution_count": 93,
   "metadata": {
    "collapsed": false,
    "scrolled": false
   },
   "outputs": [
    {
     "name": "stdout",
     "output_type": "stream",
     "text": [
      "{'role': 'tabpanel', 'id': '4-pane-1', 'aria-hidden': 'false', 'class': ['tab-pane', 'active', 'fade', 'in'], 'aria-labelledby': '4-tab-1', 'data-reactid': '490'}\n",
      "{'role': 'tabpanel', 'id': '4-pane-2', 'aria-hidden': 'true', 'class': ['tab-pane', 'fade'], 'aria-labelledby': '4-tab-2', 'data-reactid': '698'}\n",
      "{'role': 'tabpanel', 'id': '4-pane-3', 'aria-hidden': 'true', 'class': ['tab-pane', 'fade'], 'aria-labelledby': '4-tab-3', 'data-reactid': '700'}\n",
      "{'role': 'tabpanel', 'id': '4-pane-4', 'aria-hidden': 'true', 'class': ['tab-pane', 'fade'], 'aria-labelledby': '4-tab-4', 'data-reactid': '702'}\n"
     ]
    }
   ],
   "source": [
    "for child in text.children:\n",
    "    print(child.attrs)"
   ]
  },
  {
   "cell_type": "code",
   "execution_count": 90,
   "metadata": {
    "collapsed": false
   },
   "outputs": [],
   "source": [
    "mileage=at[24].find(attrs={\"data-qaid\" : \"mileage\"}).text"
   ]
  },
  {
   "cell_type": "code",
   "execution_count": 91,
   "metadata": {
    "collapsed": true
   },
   "outputs": [],
   "source": [
    "miles=mileage[0:(mileage.find('miles')-1)]"
   ]
  },
  {
   "cell_type": "code",
   "execution_count": 93,
   "metadata": {
    "collapsed": false
   },
   "outputs": [
    {
     "ename": "ValueError",
     "evalue": "invalid literal for int() with base 10: '39,000'",
     "output_type": "error",
     "traceback": [
      "\u001b[0;31m---------------------------------------------------------------------------\u001b[0m",
      "\u001b[0;31mValueError\u001b[0m                                Traceback (most recent call last)",
      "\u001b[0;32m<ipython-input-93-793195893406>\u001b[0m in \u001b[0;36m<module>\u001b[0;34m()\u001b[0m\n\u001b[0;32m----> 1\u001b[0;31m \u001b[0mint\u001b[0m\u001b[0;34m(\u001b[0m\u001b[0mmiles\u001b[0m\u001b[0;34m)\u001b[0m\u001b[0;34m\u001b[0m\u001b[0m\n\u001b[0m",
      "\u001b[0;31mValueError\u001b[0m: invalid literal for int() with base 10: '39,000'"
     ]
    }
   ],
   "source": [
    "df="
   ]
  },
  {
   "cell_type": "code",
   "execution_count": null,
   "metadata": {
    "collapsed": true
   },
   "outputs": [],
   "source": []
  },
  {
   "cell_type": "code",
   "execution_count": null,
   "metadata": {
    "collapsed": true
   },
   "outputs": [],
   "source": []
  },
  {
   "cell_type": "code",
   "execution_count": null,
   "metadata": {
    "collapsed": true
   },
   "outputs": [],
   "source": []
  },
  {
   "cell_type": "code",
   "execution_count": null,
   "metadata": {
    "collapsed": true
   },
   "outputs": [],
   "source": []
  },
  {
   "cell_type": "code",
   "execution_count": null,
   "metadata": {
    "collapsed": true
   },
   "outputs": [],
   "source": []
  },
  {
   "cell_type": "markdown",
   "metadata": {},
   "source": []
  }
 ],
 "metadata": {
  "anaconda-cloud": {},
  "kernelspec": {
   "display_name": "Python [conda root]",
   "language": "python",
   "name": "conda-root-py"
  },
  "language_info": {
   "codemirror_mode": {
    "name": "ipython",
    "version": 3
   },
   "file_extension": ".py",
   "mimetype": "text/x-python",
   "name": "python",
   "nbconvert_exporter": "python",
   "pygments_lexer": "ipython3",
   "version": "3.5.2"
  }
 },
 "nbformat": 4,
 "nbformat_minor": 1
}
